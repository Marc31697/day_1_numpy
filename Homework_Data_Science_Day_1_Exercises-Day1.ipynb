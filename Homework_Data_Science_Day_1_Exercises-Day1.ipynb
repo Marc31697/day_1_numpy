{
 "cells": [
  {
   "cell_type": "markdown",
   "metadata": {},
   "source": [
    "# Exercises"
   ]
  },
  {
   "cell_type": "markdown",
   "metadata": {},
   "source": [
    "### #1 - Calculate the BMI (body mass index) on the two lists below using NDArrays..."
   ]
  },
  {
   "cell_type": "code",
   "execution_count": 2,
   "metadata": {},
   "outputs": [
    {
     "name": "stdout",
     "output_type": "stream",
     "text": [
      "[16.86620458 17.87755102 18.82562984 19.71450617 20.54794521 21.32943755\n",
      " 22.06222222]\n"
     ]
    }
   ],
   "source": [
    "import numpy as np\n",
    "# formula = weight / (height**2) * 730\n",
    "height = [69, 70, 71, 72, 73, 74, 75]\n",
    "weight = [110, 120, 130, 140, 150, 160, 170]\n",
    "\n",
    "# OUTPUT: [16.86620458 17.87755102 18.82562984 19.71450617 20.54794521 21.32943755\n",
    "# 22.06222222]\n",
    "n_height = np.array(height)\n",
    "n_weight = np.array(weight)\n",
    "\n",
    "results = n_weight / (n_height**2) * 730\n",
    "print(results)\n"
   ]
  },
  {
   "cell_type": "markdown",
   "metadata": {},
   "source": [
    "### #2 - Create a function that will take in two parameters and will create a random matrix based off of those parameters. Extra: Have additional parameters taken in that allow the user to choose the shape and data type of the matrix."
   ]
  },
  {
   "cell_type": "code",
   "execution_count": 35,
   "metadata": {},
   "outputs": [
    {
     "name": "stdout",
     "output_type": "stream",
     "text": [
      "[[1.83242805 4.97255142 3.72945418 0.93490508]\n",
      " [1.22320689 1.68410929 1.52813722 2.2490474 ]\n",
      " [1.3103593  1.73682567 0.85872775 0.59474946]\n",
      " [4.92419725 4.49637575 3.35947237 4.49175535]]\n",
      "[[1 4 4]\n",
      " [1 2 8]\n",
      " [3 9 8]]\n"
     ]
    }
   ],
   "source": [
    "\"\"\"\n",
    "Example Result\n",
    "array([[14.21633515,  7.98846653,  9.64140715],\n",
    "       [ 6.30982234,  9.96414331,  8.43153688],\n",
    "       [14.73102068, 11.76072894, 14.23356121]])\n",
    "\"\"\"\n",
    "def makeMatrix(low,high,rows,columns,datatype = float):\n",
    "    if datatype is int:\n",
    "            return np.random.randint(low, high, (rows, columns))\n",
    "    return np.random.uniform(low, high, (rows, columns))\n",
    "\n",
    "print(makeMatrix(0,5,4,4))\n",
    "print(makeMatrix(0,10,3,3,int))"
   ]
  },
  {
   "cell_type": "markdown",
   "metadata": {},
   "source": [
    "### #3 - Extra: Open and load the data in the two text files that have the Boston Red Sox hitting data for the past seasons. Compare the difference in the two years by putting the data into an NDArray and running a differencial operation on it. The column to look for will be SLG.\n",
    "\n",
    "Your output should display which year (either 2017 or 2018) was a better year based on SLG"
   ]
  },
  {
   "cell_type": "code",
   "execution_count": 38,
   "metadata": {},
   "outputs": [
    {
     "name": "stdout",
     "output_type": "stream",
     "text": [
      "[['1', 'C', 'Christian Vazquez', '26', '99', '345', '324', '43', '94', '18', '2', '5', '32', '7', '2', '17', '64', '.290', '.330', '.404', '.735', '91', '131', '14', '3', '0', '1', '0'], ['2', '1B', 'Mitch Moreland', '31', '149', '576', '508', '73', '125', '34', '0', '22', '79', '0', '1', '57', '120', '.246', '.326', '.443', '.769', '99', '225', '14', '6', '0', '5', '6'], ['3', '2B', 'Dustin Pedroia', '33', '105', '463', '406', '46', '119', '19', '0', '7', '62', '4', '3', '49', '48', '.293', '.369', '.392', '.760', '100', '159', '11', '2', '2', '4', '4'], ['4', 'SS', 'Xander Bogaerts', '24', '148', '635', '571', '94', '156', '32', '6', '10', '62', '15', '1', '56', '116', '.273', '.343', '.403', '.746', '95', '230', '17', '6', '0', '2', '6']]\n"
     ]
    }
   ],
   "source": [
    "import csv\n",
    "import numpy as np\n",
    "\n",
    "#Test to make sure you have the correct data\n",
    "def open_csv(filename, d=','):\n",
    "    # Define an empty list to store data\n",
    "    data = []\n",
    "    \n",
    "    with open(filename, encoding= 'utf-8') as mData:\n",
    "        # use the csv reader method to create a python list\n",
    "        info = csv.reader(mData, delimiter = d)\n",
    "        \n",
    "        # Loop over info and append to data list\n",
    "        for row in info:\n",
    "            data.append(row)\n",
    "        return data\n",
    "csv_data = open_csv('../files/redsox_2017_hitting.txt')\n",
    "print(csv_data[1:5])"
   ]
  },
  {
   "cell_type": "code",
   "execution_count": 50,
   "metadata": {},
   "outputs": [
    {
     "name": "stdout",
     "output_type": "stream",
     "text": [
      "0.0058478117\n"
     ]
    }
   ],
   "source": [
    "\"\"\"\n",
    "Example Result - Not the actual result\n",
    "Boston 18 had more SLG in 2018\n",
    "[0.404 0.443 0.392 0.403 0.482 0.424 0.402 0.459 0.429 0.354 0.387 0.333\n",
    " 0.539 0.243 0.262 0.354 0.342 0.339 0.328 0.306 0.222 0.2   1.   ]\n",
    "\"\"\"\n",
    "import statistics\n",
    "FIELDS = ['Rk', 'Pos', 'Name', 'Age', 'G', 'PA', 'AB', 'R', 'H', '2B', '3B', 'HR', 'RBI', 'SB', 'CS', \n",
    "          'BB', 'SO', 'BA', 'OBP', 'SLG', 'OPS', 'OPS+', 'TB', 'GDP', 'HBP', 'SH', 'SF', 'IBB']\n",
    "\n",
    "DATATYPES = [('rk', 'i'), ('pos', '|S25'), ('name', '|S25'), ('age', 'i'), ('g', 'i'), ('pa', 'i'), ('ab', 'i'),\n",
    "                ('r', 'i'), ('h', 'i'), ('2b', 'i'), ('3b', 'i'), ('hr', 'i'), ('rbi', 'i'), ('sb', 'i'), ('cs', 'i'),\n",
    "                ('bb', 'i'), ('so', 'i'), ('ba', 'f'), ('obp', 'f'), ('slg', 'f'), ('ops', 'f'), ('opsp', 'i'),\n",
    "                ('tb', 'i'), ('gdp', 'i'), ('hbp', 'i'), ('sh', 'i'), ('sf', 'i'), ('ibb', 'i')]\n",
    "\n",
    "#Use this function to actually open the data inside of a NDArray\n",
    "def load_data(filename, d=','):\n",
    "    data = np.genfromtxt(filename, delimiter = d, skip_header = 1, usecols = np.arange(0,24),\n",
    "                        invalid_raise = False, names = FIELDS, dtype = DATATYPES)\n",
    "    return data\n",
    "data1 = load_data('../files/redsox_2017_hitting.txt')\n",
    "data2 = load_data('../files/redsox_2018_hitting.txt')\n",
    "# print(data1)\n",
    "# print(data2)\n",
    "\n",
    "avg1 = statistics.mean(data1['SLG'])\n",
    "avg2 = statistics.mean(data2['SLG'])\n",
    "print(avg1 - avg2)"
   ]
  }
 ],
 "metadata": {
  "kernelspec": {
   "display_name": "Python 3",
   "language": "python",
   "name": "python3"
  },
  "language_info": {
   "codemirror_mode": {
    "name": "ipython",
    "version": 3
   },
   "file_extension": ".py",
   "mimetype": "text/x-python",
   "name": "python",
   "nbconvert_exporter": "python",
   "pygments_lexer": "ipython3",
   "version": "3.8.8"
  }
 },
 "nbformat": 4,
 "nbformat_minor": 2
}
